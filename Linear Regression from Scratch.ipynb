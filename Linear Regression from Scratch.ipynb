{
 "cells": [
  {
   "cell_type": "code",
   "execution_count": 18,
   "metadata": {},
   "outputs": [],
   "source": [
    "# Importing Necessary modules\n",
    "\n",
    "import numpy as np\n",
    "import pandas as pd\n",
    "from sklearn.preprocessing import StandardScaler\n",
    "from sklearn.model_selection import train_test_split\n",
    "from sklearn.datasets import load_boston \n",
    "from sklearn.metrics import r2_score"
   ]
  },
  {
   "cell_type": "code",
   "execution_count": 19,
   "metadata": {},
   "outputs": [],
   "source": [
    "df=load_boston()\n",
    "x=df.data\n",
    "y=df.target"
   ]
  },
  {
   "cell_type": "markdown",
   "metadata": {},
   "source": [
    "Data is already cleaned, so we can directly give it to the model. We can also do preprocessing, to churn out accuracy"
   ]
  },
  {
   "cell_type": "code",
   "execution_count": 20,
   "metadata": {},
   "outputs": [],
   "source": [
    "x_train,x_test,y_train,y_test=train_test_split(x,y,test_size=0.2)"
   ]
  },
  {
   "cell_type": "code",
   "execution_count": 21,
   "metadata": {},
   "outputs": [],
   "source": [
    "# Scaling the data so that every feature has equal importance\n",
    "\n",
    "scaler=StandardScaler()\n",
    "x_train=scaler.fit_transform(x_train)\n",
    "x_test=scaler.transform(x_test)"
   ]
  },
  {
   "cell_type": "code",
   "execution_count": 22,
   "metadata": {},
   "outputs": [],
   "source": [
    "class LinearRegression:\n",
    "    \n",
    "    # training function\n",
    "    def fit(self,x,y):\n",
    "        o=np.ones(x.shape[0]).reshape(-1,1)\n",
    "        x=np.concatenate((o,x),axis=1)\n",
    "        self.c=[0]*(x.shape[1])\n",
    "        self.cost=[]\n",
    "        a=0.01\n",
    "        m=len(y)\n",
    "        for _ in range(1000):\n",
    "            pred=x.dot(self.c)\n",
    "            loss=pred-y\n",
    "            self.c-=(a/m)*(x.T.dot(loss))\n",
    "            self.cost.append(self.calc(loss,m))\n",
    "            \n",
    "    # prediction function\n",
    "    def predict(self,x):\n",
    "        o=np.ones(x.shape[0]).reshape(-1,1)\n",
    "        x=np.concatenate((o,x),axis=1)\n",
    "        l=[]\n",
    "        for i in range(len(x)):\n",
    "            l.append(x[i].dot(self.c))\n",
    "        return np.array(l)\n",
    "    \n",
    "    # loss calculation\n",
    "    def calc(self,loss,m):\n",
    "        a=loss**2\n",
    "        return ((1/(2*m))*a.sum())"
   ]
  },
  {
   "cell_type": "code",
   "execution_count": 23,
   "metadata": {},
   "outputs": [],
   "source": [
    "model=LinearRegression()\n",
    "model.fit(x_train,y_train)"
   ]
  },
  {
   "cell_type": "code",
   "execution_count": 24,
   "metadata": {
    "scrolled": true
   },
   "outputs": [],
   "source": [
    "y_pred=model.predict(x_test)"
   ]
  },
  {
   "cell_type": "code",
   "execution_count": 25,
   "metadata": {},
   "outputs": [
    {
     "name": "stdout",
     "output_type": "stream",
     "text": [
      "R2 Score is: 0.7496450757121655\n"
     ]
    }
   ],
   "source": [
    "print('R2 Score is:',r2_score(y_test,y_pred))"
   ]
  },
  {
   "cell_type": "code",
   "execution_count": null,
   "metadata": {},
   "outputs": [],
   "source": []
  }
 ],
 "metadata": {
  "kernelspec": {
   "display_name": "Python 3",
   "language": "python",
   "name": "python3"
  },
  "language_info": {
   "codemirror_mode": {
    "name": "ipython",
    "version": 3
   },
   "file_extension": ".py",
   "mimetype": "text/x-python",
   "name": "python",
   "nbconvert_exporter": "python",
   "pygments_lexer": "ipython3",
   "version": "3.8.5"
  }
 },
 "nbformat": 4,
 "nbformat_minor": 4
}
